{
 "cells": [
  {
   "cell_type": "markdown",
   "metadata": {},
   "source": [
    "\n",
    " \n",
    " ## Language modeling - Generate movie reviews\n",
    "<br>\n",
    "<font color= 'green' > \n",
    "- NIMISHA ASATI\n"
   ]
  },
  {
   "cell_type": "markdown",
   "metadata": {},
   "source": [
    "</H> **Importing the necessary Libraries** </H>"
   ]
  },
  {
   "cell_type": "code",
   "execution_count": 8,
   "metadata": {},
   "outputs": [
    {
     "name": "stderr",
     "output_type": "stream",
     "text": [
      "Using TensorFlow backend.\n"
     ]
    }
   ],
   "source": [
    "from __future__ import unicode_literals, print_function, division\n",
    "from io import open\n",
    "import unicodedata\n",
    "import string\n",
    "import re\n",
    "import random\n",
    "\n",
    "import torch\n",
    "from torchtext import data\n",
    "import torch.nn as nn\n",
    "from torch import optim\n",
    "import torch.nn.functional as F\n",
    "\n",
    "import string\n",
    "import numpy as np\n",
    "import pandas as pd\n",
    "import pickle\n",
    "import matplotlib.pyplot as plt\n",
    "\n",
    "from keras.preprocessing.text import Tokenizer\n",
    "from keras.preprocessing.sequence import pad_sequences\n",
    "from keras.utils import to_categorical\n",
    "\n",
    "device = torch.device(\"cuda\" if torch.cuda.is_available() else \"cpu\")"
   ]
  },
  {
   "cell_type": "code",
   "execution_count": 9,
   "metadata": {},
   "outputs": [],
   "source": [
    "%matplotlib inline"
   ]
  },
  {
   "cell_type": "markdown",
   "metadata": {},
   "source": [
    "## 1.A Build a Markov (n-gram) language model"
   ]
  },
  {
   "cell_type": "markdown",
   "metadata": {},
   "source": [
    "We have a markov model trigram model. Torch test was used to retrieve the IMDB dataset and custom function generate trigrams is passed to the preprocessing argument in the data.field function to function each review into trigrams and freqs function is used to get the count of each trigram. This data is further manipulated to calculate probabilties and predictions are made my smapling these probabilities"
   ]
  },
  {
   "cell_type": "code",
   "execution_count": 17,
   "metadata": {},
   "outputs": [],
   "source": [
    "def generate_trigrams(x):\n",
    "    res = []\n",
    "    n_grams = list(zip(*[x[i:] for i in range(3)]))\n",
    "    for n_gram in n_grams:\n",
    "        res.append(' '.join(n_gram))\n",
    "    return res"
   ]
  },
  {
   "cell_type": "code",
   "execution_count": 18,
   "metadata": {},
   "outputs": [
    {
     "name": "stdout",
     "output_type": "stream",
     "text": [
      "{'text': ['a bit slow', 'bit slow and', 'slow and boring', 'and boring ,', 'boring , the', ', the tale', 'the tale of', 'tale of an', 'of an old', 'an old man', 'old man and', 'man and his', 'and his wife', 'his wife living', 'wife living a', 'living a delapidated', 'a delapidated building', 'delapidated building and', 'building and interacting', 'and interacting with', 'interacting with a', 'with a fixed', 'a fixed cast', 'fixed cast of', 'cast of characters', 'of characters like', 'characters like the', 'like the mailman', 'the mailman ,', 'mailman , the', ', the brothers', 'the brothers sitting', 'brothers sitting on', 'sitting on the', 'on the porch', 'the porch ,', 'porch , the', ', the wealthy', 'the wealthy cigar', 'wealthy cigar smoking', 'cigar smoking man', 'smoking man .', 'man . The', '. The photography', 'The photography of', 'photography of the', 'of the river', 'the river is', 'river is marvelous', 'is marvelous ,', 'marvelous , as', ', as is', 'as is the', 'is the interior', 'the interior period', 'interior period decoration', 'period decoration .', 'decoration . If', '. If you', 'If you like', 'you like decoration', 'like decoration of', 'decoration of Banana', 'of Banana Republic', 'Banana Republic stores', 'Republic stores ,', 'stores , this', ', this is', 'this is a', 'is a must', 'a must .'], 'label': 'pos'}\n"
     ]
    }
   ],
   "source": [
    "SEED = 1234\n",
    "\n",
    "torch.manual_seed(SEED)\n",
    "torch.cuda.manual_seed(SEED)\n",
    "torch.backends.cudnn.deterministic = True\n",
    "##############importing imdb daasets#############\n",
    "TEXT = data.Field(tokenize='spacy',preprocessing=generate_trigrams)\n",
    "LABEL = data.LabelField(dtype=torch.float)\n",
    "train_data, test_data = datasets.IMDB.splits(TEXT,LABEL)\n",
    "print(vars(train_data.examples[0]))\n",
    "train_data, valid_data = train_data.split(random_state=random.seed(SEED),split_ratio=0.9)\n",
    "TEXT.build_vocab(train_data)\n",
    "dictionary = dict(TEXT.vocab.freqs)"
   ]
  },
  {
   "cell_type": "code",
   "execution_count": 21,
   "metadata": {},
   "outputs": [],
   "source": [
    "markov = pd.DataFrame.from_dict(dictionary,orient=\"index\")\n",
    "markov = markov.reset_index()\n",
    "markov.columns = ['trigrams','cnt']\n",
    "markov['bigram'] =markov.trigrams.apply(lambda x: \" \".join(x.split(' ')[:2]))\n",
    "markov['target'] =markov.trigrams.apply(lambda x: x.split(' ')[2])\n",
    "inp_cnt = pd.DataFrame(markov.groupby(\"bigram\",as_index=False)[\"cnt\"].sum())"
   ]
  },
  {
   "cell_type": "markdown",
   "metadata": {},
   "source": [
    "## 1.B Change the output appropriately in ‘Simple Sentiment Analysis.ipynb’ to build an LSTM based language model. Plot the training performance as a function of epochs/iterations.\n"
   ]
  },
  {
   "cell_type": "code",
   "execution_count": 2,
   "metadata": {},
   "outputs": [],
   "source": [
    "SEED = 1234\n",
    "\n",
    "torch.manual_seed(SEED)\n",
    "torch.cuda.manual_seed(SEED)\n",
    "torch.backends.cudnn.deterministic = True\n",
    "\n",
    "TEXT = data.Field(tokenize='spacy')\n",
    "LABEL = data.LabelField(dtype=torch.float)"
   ]
  },
  {
   "cell_type": "code",
   "execution_count": 3,
   "metadata": {},
   "outputs": [],
   "source": [
    "from torchtext import datasets\n",
    "train_data, test_data = datasets.IMDB.splits(TEXT, LABEL)"
   ]
  },
  {
   "cell_type": "code",
   "execution_count": 4,
   "metadata": {},
   "outputs": [
    {
     "name": "stdout",
     "output_type": "stream",
     "text": [
      "Number of training examples: 25000\n",
      "Number of testing examples: 25000\n"
     ]
    }
   ],
   "source": [
    "print(f'Number of training examples: {len(train_data)}')\n",
    "print(f'Number of testing examples: {len(test_data)}')"
   ]
  },
  {
   "cell_type": "code",
   "execution_count": 5,
   "metadata": {},
   "outputs": [
    {
     "name": "stdout",
     "output_type": "stream",
     "text": [
      "{'text': ['a', 'bit', 'slow', 'and', 'boring', ',', 'the', 'tale', 'of', 'an', 'old', 'man', 'and', 'his', 'wife', 'living', 'a', 'delapidated', 'building', 'and', 'interacting', 'with', 'a', 'fixed', 'cast', 'of', 'characters', 'like', 'the', 'mailman', ',', 'the', 'brothers', 'sitting', 'on', 'the', 'porch', ',', 'the', 'wealthy', 'cigar', 'smoking', 'man', '.', 'The', 'photography', 'of', 'the', 'river', 'is', 'marvelous', ',', 'as', 'is', 'the', 'interior', 'period', 'decoration', '.', 'If', 'you', 'like', 'decoration', 'of', 'Banana', 'Republic', 'stores', ',', 'this', 'is', 'a', 'must', '.'], 'label': 'pos'}\n"
     ]
    }
   ],
   "source": [
    "print(vars(train_data.examples[0]))\n",
    "train_data, valid_data = train_data.split(random_state=random.seed(SEED),split_ratio=0.25)"
   ]
  },
  {
   "cell_type": "code",
   "execution_count": 6,
   "metadata": {},
   "outputs": [
    {
     "name": "stdout",
     "output_type": "stream",
     "text": [
      "Number of training examples: 2500\n",
      "Number of validation examples: 22500\n",
      "Number of testing examples: 25000\n"
     ]
    }
   ],
   "source": [
    "print(f'Number of training examples: {len(train_data)}')\n",
    "print(f'Number of validation examples: {len(valid_data)}')\n",
    "print(f'Number of testing examples: {len(test_data)}')"
   ]
  },
  {
   "cell_type": "code",
   "execution_count": 7,
   "metadata": {},
   "outputs": [],
   "source": [
    "TEXT.build_vocab(train_data, max_size=1000)\n",
    "LABEL.build_vocab(train_data)"
   ]
  },
  {
   "cell_type": "code",
   "execution_count": 8,
   "metadata": {},
   "outputs": [
    {
     "name": "stdout",
     "output_type": "stream",
     "text": [
      "Unique tokens in TEXT vocabulary: 5002\n",
      "Unique tokens in LABEL vocabulary: 2\n"
     ]
    }
   ],
   "source": [
    "print(f\"Unique tokens in TEXT vocabulary: {len(TEXT.vocab)}\")\n",
    "print(f\"Unique tokens in LABEL vocabulary: {len(LABEL.vocab)}\")"
   ]
  },
  {
   "cell_type": "code",
   "execution_count": 9,
   "metadata": {},
   "outputs": [],
   "source": [
    "BATCH_SIZE = 10\n",
    "device = torch.device('cuda' if torch.cuda.is_available() else 'cpu')\n",
    "\n",
    "train_iterator, valid_iterator, test_iterator = data.BucketIterator.splits(\n",
    "    (train_data, valid_data, test_data), \n",
    "    batch_size=BATCH_SIZE,\n",
    "    device=device)"
   ]
  },
  {
   "cell_type": "code",
   "execution_count": 10,
   "metadata": {},
   "outputs": [],
   "source": [
    "class RNN(nn.Module):\n",
    "    def __init__(self, input_dim, embedding_dim,BATCH_SIZE,output_dim):\n",
    "        super().__init__()\n",
    "        \n",
    "        self.embedding = nn.Embedding(input_dim, embedding_dim)\n",
    "        self.rnn = nn.LSTM(embedding_dim, output_dim)\n",
    "        \n",
    "    def forward(self, x):        \n",
    "        embedded = self.embedding(x)\n",
    "        output, (hidden,cell) = self.rnn(embedded)\n",
    "        dim = output.size()\n",
    "        output = output.view(-1, output.shape[2])\n",
    "        output1 = F.log_softmax(output,dim=1)\n",
    "        \n",
    "        if BATCH_SIZE==dim[1]:\n",
    "            output1 = output1.view(-1,OUTPUT_DIM,BATCH_SIZE)\n",
    "        else:\n",
    "            output1 = output1.view(dim[1],OUTPUT_DIM,-1)\n",
    "        #output = [sent len, batch size, hid dim]\n",
    "        #hidden = [1, batch size, hid dim]       \n",
    "        return output1"
   ]
  },
  {
   "cell_type": "code",
   "execution_count": 11,
   "metadata": {},
   "outputs": [],
   "source": [
    "INPUT_DIM = len(TEXT.vocab)\n",
    "EMBEDDING_DIM = 100\n",
    "OUTPUT_DIM = len(TEXT.vocab)\n",
    "model = RNN(INPUT_DIM, EMBEDDING_DIM,BATCH_SIZE,OUTPUT_DIM)"
   ]
  },
  {
   "cell_type": "code",
   "execution_count": 12,
   "metadata": {},
   "outputs": [],
   "source": [
    "optimizer = optim.SGD(model.parameters(), lr=1e-1)\n",
    "criterion = nn.NLLLoss()\n",
    "model = model.to(device)\n",
    "criterion = criterion.to(device)"
   ]
  },
  {
   "cell_type": "code",
   "execution_count": 13,
   "metadata": {},
   "outputs": [],
   "source": [
    "def train(model, iterator, optimizer, criterion,BATCH_SIZE):\n",
    "    \n",
    "    epoch_loss = 0\n",
    "    epoch_acc = 0\n",
    "    epoch_label_count = 0 \n",
    "    loss=0\n",
    "    model.train()\n",
    "    for batch in iterator:\n",
    "        optimizer.zero_grad()   \n",
    "        predictions = model(batch.text)\n",
    "\n",
    "        dim = predictions.size()\n",
    "        if dim[2] !=BATCH_SIZE:\n",
    "            BATCH_SIZE = dim[2]\n",
    "            \n",
    "        pad = torch.tensor([1]*BATCH_SIZE,device=\"cuda:0\").view(BATCH_SIZE,-1)\n",
    "        _,preds = torch.max(predictions,1)\n",
    "        labels = batch.text.view(-1,BATCH_SIZE)\n",
    "        labels = labels[1:]\n",
    "        pad = torch.tensor([1]*BATCH_SIZE,device=\"cuda:0\").view(-1,BATCH_SIZE)\n",
    "        labels = torch.cat((labels,pad),0)\n",
    "        loss = criterion(predictions,labels)\n",
    "        acc = torch.sum(preds == labels)\n",
    "        loss.backward()\n",
    "        optimizer.step()\n",
    "\n",
    "        epoch_loss += loss.item()\n",
    "        epoch_acc += acc.item()\n",
    "        epoch_label_count+= labels.numel()\n",
    "        \n",
    "    return epoch_loss / len(iterator) , (epoch_acc /epoch_label_count)"
   ]
  },
  {
   "cell_type": "code",
   "execution_count": 20,
   "metadata": {
    "scrolled": true
   },
   "outputs": [
    {
     "name": "stdout",
     "output_type": "stream",
     "text": [
      "| Epoch: 01 | Train Loss: 6.036 | Train Acc: 9.35% \n",
      "| Epoch: 02 | Train Loss: 5.691 | Train Acc: 9.07% \n",
      "| Epoch: 03 | Train Loss: 5.683 | Train Acc: 8.88% \n",
      "| Epoch: 04 | Train Loss: 5.681 | Train Acc: 9.59% \n",
      "| Epoch: 05 | Train Loss: 5.680 | Train Acc: 9.06% \n",
      "| Epoch: 06 | Train Loss: 5.674 | Train Acc: 9.06% \n",
      "| Epoch: 07 | Train Loss: 5.675 | Train Acc: 8.58% \n",
      "| Epoch: 08 | Train Loss: 5.671 | Train Acc: 9.33% \n",
      "| Epoch: 09 | Train Loss: 5.679 | Train Acc: 9.20% \n",
      "| Epoch: 10 | Train Loss: 5.670 | Train Acc: 9.22% \n"
     ]
    }
   ],
   "source": [
    "N_EPOCHS = 10\n",
    "train_losses = []\n",
    "valid_losses = []\n",
    "for epoch in range(N_EPOCHS):\n",
    "    train_loss,train_acc = train(model, train_iterator, optimizer, criterion,BATCH_SIZE)\n",
    "    train_losses.append(train_loss)\n",
    "    print(f'| Epoch: {epoch+1:02} | Train Loss: {train_loss:.3f} | Train Acc: {train_acc*100:.2f}% ')#| Val. Loss: {valid_loss:.3f} | Val. Acc: {valid_acc*100:.2f}% |')"
   ]
  },
  {
   "cell_type": "code",
   "execution_count": 22,
   "metadata": {},
   "outputs": [
    {
     "data": {
      "image/png": "[encoded data removed]",
      "text/plain": [
       "<Figure size 432x288 with 1 Axes>"
      ]
     },
     "metadata": {
      "needs_background": "light"
     },
     "output_type": "display_data"
    }
   ],
   "source": [
    "plt.plot(train_losses)\n",
    "plt.title(\"Training Performane by EPOCHS - 1000 words 25% training size\")\n",
    "plt.xlabel(\"Epochs\")\n",
    "plt.ylabel(\"Loss\")\n",
    "plt.show()"
   ]
  },
  {
   "cell_type": "markdown",
   "metadata": {},
   "source": [
    "## 2. For each model, describe the key design choices made. Briefly mention how each choice influences training time and generative quality.\n"
   ]
  },
  {
   "cell_type": "markdown",
   "metadata": {},
   "source": [
    "**Markov** model we went with the trigrams and there was no difficulty in calculating the probabilities and prediction.\n",
    "\n",
    "For **LSTM** there was an input layer followed by embedding then lstm layer. The input was the tokenized text and output also the tokenized text offsetted by 1 place. Ex) if input is [This,is,my,favorite,movie] then output is [is,my,favorite,movie,<<pad>>]. If you give the word \"This\" then model should predict \"is\" and so on. Due to the size of the input training model with a decent training size became a struggle.\n",
    "    \n",
    "- We took 25% training data with max 1000 words with batch size 10 to train our lstm model.\n",
    "- If we increased the number of words then the model couldn't be loaded into the gpu as there was insufficient memory\n",
    "- If we increased the training data to higher percentage say 50% or 80% then notebook got disconnected from the server randomly. This error didn't go when we tried to run the code as standalone .py file instead of a python notebook\n",
    "- When we reduced the batch size to 1 then model took longer time to train and when we increased it to 64 then there was memory error once again. We settled at Batch Size 10\n",
    "- Due to this limited training size and words the quality of sentence formed by predicition was affected considerably.The prediction didn't give out a coherent sentence as we would have liked."
   ]
  },
  {
   "cell_type": "markdown",
   "metadata": {},
   "source": [
    "## 3. For each model, starting with the phrase ”My favorite movie ”, sample the next few words and create a 20 word generated review. "
   ]
  },
  {
   "cell_type": "markdown",
   "metadata": {},
   "source": [
    "## Markov Prediction "
   ]
  },
  {
   "cell_type": "code",
   "execution_count": 24,
   "metadata": {},
   "outputs": [
    {
     "name": "stdout",
     "output_type": "stream",
     "text": [
      "Generated Review 1:  my favorite movie - lovers become involved . The sight of Joe McCarthy ) , Pastor Dan , Hedges also\n",
      "\n",
      "Generated Review 2:  my favorite movie growing up experience I 've showed this at tower records after seeing Mario Van Peeples surprised me\n",
      "\n",
      "Generated Review 3:  my favorite movie rental store just to earn them any awards that 's above and , here giving one of\n",
      "\n",
      "Generated Review 4:  my favorite movie genre of your brother - type role as Robinson 's boss , Tony Franciosa and things .\n",
      "\n",
      "Generated Review 5:  my favorite movie ahead of Raines and it betrayed me . Another annoying character to fill a whole Kill Shot\n",
      "\n"
     ]
    }
   ],
   "source": [
    "def generate_sentence(sentence,no_preds,prediction_length):\n",
    "    prediction_length -= len(sentence.split(\" \")) \n",
    "    for j in range(0,no_preds):\n",
    "        pred_sentence = sentence\n",
    "        bi = \" \".join(pred_sentence.split(\" \")[1:])\n",
    "        for i in range(0,prediction_length):\n",
    "            poss_pred = np.array(markov.target[markov.bigram==bi])\n",
    "            scores = np.array(markov.cnt[markov.bigram==bi])\n",
    "            length = inp_cnt.cnt[inp_cnt.bigram==bi]\n",
    "            probs = scores/length.iloc[0]\n",
    "            pred = random.choice(list(enumerate(probs)))[0]\n",
    "            pred = poss_pred[pred]\n",
    "            pred_sentence = pred_sentence + \" \" + pred\n",
    "            bi = \" \".join([bi.split(\" \")[1],pred])\n",
    "        print(\"Generated Review \"+str(j+1)+\": \",pred_sentence+\"\\n\")\n",
    "generate_sentence(\"my favorite movie\",5,20)"
   ]
  },
  {
   "cell_type": "markdown",
   "metadata": {},
   "source": [
    "# LSTM Prediction"
   ]
  },
  {
   "cell_type": "code",
   "execution_count": 16,
   "metadata": {},
   "outputs": [
    {
     "name": "stdout",
     "output_type": "stream",
     "text": [
      "Generated Review 1:   my favorite movie women my around top should black find rest children Well few still top start were performances become\n",
      "\n",
      "Generated Review 2:   my favorite movie waste funny your end moments awful death an seeing guy completely real Not around When children guy\n",
      "\n",
      "Generated Review 3:   my favorite movie who enough wife came get 's performances want were No enough play should more rather come American\n",
      "\n",
      "Generated Review 4:   my favorite movie even believe house definitely what scenes worth camera friends version love In me work absolutely after need\n",
      "\n",
      "Generated Review 5:   my favorite movie tries sort remember if their episode at minutes wife around thought mother day up style Do films\n",
      "\n"
     ]
    }
   ],
   "source": [
    "for j in range(5):\n",
    "    inp =torch.tensor([[TEXT.vocab.stoi[\"my\"]],[TEXT.vocab.stoi[\"favorite\"]],[TEXT.vocab.stoi[\"movie\"]]],device=\"cuda:0\")\n",
    "    for i in range(17):\n",
    "        op = model(inp)\n",
    "        op = op.squeeze(0)\n",
    "        op = op[:,op.size()[1]-1].detach().cpu().numpy()\n",
    "        op = np.sort(op)[::-1]\n",
    "        op = op[:500] \n",
    "        new_inp = torch.tensor(np.where(op==np.random.choice(op,1)),device=\"cuda:0\")\n",
    "        inp = torch.cat((inp,new_inp))\n",
    "    \n",
    "    generated_text = \"\"\n",
    "    for val in inp:\n",
    "        generated_text = generated_text + \" \" + TEXT.vocab.itos[val]\n",
    "    print(\"Generated Review \"+str(j+1)+\": \",generated_text+\"\\n\")"
   ]
  },
  {
   "cell_type": "code",
   "execution_count": null,
   "metadata": {},
   "outputs": [],
   "source": []
  }
 ],
 "metadata": {
  "kernelspec": {
   "display_name": "Python 3",
   "language": "python",
   "name": "python3"
  },
  "language_info": {
   "codemirror_mode": {
    "name": "ipython",
    "version": 3
   },
   "file_extension": ".py",
   "mimetype": "text/x-python",
   "name": "python",
   "nbconvert_exporter": "python",
   "pygments_lexer": "ipython3",
   "version": "3.7.3"
  }
 },
 "nbformat": 4,
 "nbformat_minor": 2
}
